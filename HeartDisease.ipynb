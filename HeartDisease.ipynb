{
 "cells": [
  {
   "cell_type": "code",
   "execution_count": 2,
   "id": "99c71164-d8dd-4908-874f-3847ab6424d3",
   "metadata": {},
   "outputs": [
    {
     "data": {
      "text/html": [
       "<div>\n",
       "<style scoped>\n",
       "    .dataframe tbody tr th:only-of-type {\n",
       "        vertical-align: middle;\n",
       "    }\n",
       "\n",
       "    .dataframe tbody tr th {\n",
       "        vertical-align: top;\n",
       "    }\n",
       "\n",
       "    .dataframe thead th {\n",
       "        text-align: right;\n",
       "    }\n",
       "</style>\n",
       "<table border=\"1\" class=\"dataframe\">\n",
       "  <thead>\n",
       "    <tr style=\"text-align: right;\">\n",
       "      <th></th>\n",
       "      <th>age</th>\n",
       "      <th>sex</th>\n",
       "      <th>cp</th>\n",
       "      <th>trestbps</th>\n",
       "      <th>chol</th>\n",
       "      <th>fbs</th>\n",
       "      <th>restecg</th>\n",
       "      <th>thalach</th>\n",
       "      <th>exang</th>\n",
       "      <th>oldpeak</th>\n",
       "      <th>slope</th>\n",
       "      <th>ca</th>\n",
       "      <th>thal</th>\n",
       "      <th>target</th>\n",
       "    </tr>\n",
       "  </thead>\n",
       "  <tbody>\n",
       "    <tr>\n",
       "      <th>0</th>\n",
       "      <td>63</td>\n",
       "      <td>1</td>\n",
       "      <td>3</td>\n",
       "      <td>145</td>\n",
       "      <td>233</td>\n",
       "      <td>1</td>\n",
       "      <td>0</td>\n",
       "      <td>150</td>\n",
       "      <td>0</td>\n",
       "      <td>2.3</td>\n",
       "      <td>0</td>\n",
       "      <td>0</td>\n",
       "      <td>1</td>\n",
       "      <td>1</td>\n",
       "    </tr>\n",
       "    <tr>\n",
       "      <th>1</th>\n",
       "      <td>37</td>\n",
       "      <td>1</td>\n",
       "      <td>2</td>\n",
       "      <td>130</td>\n",
       "      <td>250</td>\n",
       "      <td>0</td>\n",
       "      <td>1</td>\n",
       "      <td>187</td>\n",
       "      <td>0</td>\n",
       "      <td>3.5</td>\n",
       "      <td>0</td>\n",
       "      <td>0</td>\n",
       "      <td>2</td>\n",
       "      <td>1</td>\n",
       "    </tr>\n",
       "    <tr>\n",
       "      <th>2</th>\n",
       "      <td>41</td>\n",
       "      <td>0</td>\n",
       "      <td>1</td>\n",
       "      <td>130</td>\n",
       "      <td>204</td>\n",
       "      <td>0</td>\n",
       "      <td>0</td>\n",
       "      <td>172</td>\n",
       "      <td>0</td>\n",
       "      <td>1.4</td>\n",
       "      <td>2</td>\n",
       "      <td>0</td>\n",
       "      <td>2</td>\n",
       "      <td>1</td>\n",
       "    </tr>\n",
       "    <tr>\n",
       "      <th>3</th>\n",
       "      <td>56</td>\n",
       "      <td>1</td>\n",
       "      <td>1</td>\n",
       "      <td>120</td>\n",
       "      <td>236</td>\n",
       "      <td>0</td>\n",
       "      <td>1</td>\n",
       "      <td>178</td>\n",
       "      <td>0</td>\n",
       "      <td>0.8</td>\n",
       "      <td>2</td>\n",
       "      <td>0</td>\n",
       "      <td>2</td>\n",
       "      <td>1</td>\n",
       "    </tr>\n",
       "    <tr>\n",
       "      <th>4</th>\n",
       "      <td>57</td>\n",
       "      <td>0</td>\n",
       "      <td>0</td>\n",
       "      <td>120</td>\n",
       "      <td>354</td>\n",
       "      <td>0</td>\n",
       "      <td>1</td>\n",
       "      <td>163</td>\n",
       "      <td>1</td>\n",
       "      <td>0.6</td>\n",
       "      <td>2</td>\n",
       "      <td>0</td>\n",
       "      <td>2</td>\n",
       "      <td>1</td>\n",
       "    </tr>\n",
       "  </tbody>\n",
       "</table>\n",
       "</div>"
      ],
      "text/plain": [
       "   age  sex  cp  trestbps  chol  fbs  restecg  thalach  exang  oldpeak  slope  \\\n",
       "0   63    1   3       145   233    1        0      150      0      2.3      0   \n",
       "1   37    1   2       130   250    0        1      187      0      3.5      0   \n",
       "2   41    0   1       130   204    0        0      172      0      1.4      2   \n",
       "3   56    1   1       120   236    0        1      178      0      0.8      2   \n",
       "4   57    0   0       120   354    0        1      163      1      0.6      2   \n",
       "\n",
       "   ca  thal  target  \n",
       "0   0     1       1  \n",
       "1   0     2       1  \n",
       "2   0     2       1  \n",
       "3   0     2       1  \n",
       "4   0     2       1  "
      ]
     },
     "execution_count": 2,
     "metadata": {},
     "output_type": "execute_result"
    }
   ],
   "source": [
    "import pandas as pd \n",
    "df=pd.read_csv(r\"C:\\Users\\shrey\\Downloads\\heart.csv\")\n",
    "df.head()"
   ]
  },
  {
   "cell_type": "code",
   "execution_count": 3,
   "id": "74b1aadf-6142-4c50-8b64-0b1835357fda",
   "metadata": {},
   "outputs": [
    {
     "data": {
      "text/plain": [
       "(303, 14)"
      ]
     },
     "execution_count": 3,
     "metadata": {},
     "output_type": "execute_result"
    }
   ],
   "source": [
    "df.shape\n"
   ]
  },
  {
   "cell_type": "code",
   "execution_count": 9,
   "id": "dc0bf678-3963-416d-b094-3bafb87119f2",
   "metadata": {},
   "outputs": [
    {
     "data": {
      "text/plain": [
       "age         0\n",
       "sex         0\n",
       "cp          0\n",
       "trestbps    0\n",
       "chol        0\n",
       "fbs         0\n",
       "restecg     0\n",
       "thalach     0\n",
       "exang       0\n",
       "oldpeak     0\n",
       "slope       0\n",
       "ca          0\n",
       "thal        0\n",
       "target      0\n",
       "dtype: int64"
      ]
     },
     "execution_count": 9,
     "metadata": {},
     "output_type": "execute_result"
    }
   ],
   "source": [
    "df.isnull().sum()"
   ]
  },
  {
   "cell_type": "code",
   "execution_count": 11,
   "id": "1d91df4d-4272-4011-9643-877ac2acdaf3",
   "metadata": {},
   "outputs": [
    {
     "data": {
      "text/plain": [
       "1"
      ]
     },
     "execution_count": 11,
     "metadata": {},
     "output_type": "execute_result"
    }
   ],
   "source": [
    "df.duplicated().sum()"
   ]
  },
  {
   "cell_type": "code",
   "execution_count": 13,
   "id": "558717f4-1c03-4b90-8eaa-00a27d027f1a",
   "metadata": {},
   "outputs": [],
   "source": [
    "df.drop_duplicates(inplace=True)"
   ]
  },
  {
   "cell_type": "code",
   "execution_count": 14,
   "id": "372918fd-a679-4d74-973c-fd761c93d694",
   "metadata": {},
   "outputs": [
    {
     "data": {
      "text/plain": [
       "0"
      ]
     },
     "execution_count": 14,
     "metadata": {},
     "output_type": "execute_result"
    }
   ],
   "source": [
    "df.duplicated().sum()"
   ]
  },
  {
   "cell_type": "code",
   "execution_count": 15,
   "id": "815d1296-fa59-4a67-b15d-5445cee6b72d",
   "metadata": {},
   "outputs": [
    {
     "data": {
      "text/plain": [
       "(302, 14)"
      ]
     },
     "execution_count": 15,
     "metadata": {},
     "output_type": "execute_result"
    }
   ],
   "source": [
    "df.shape"
   ]
  },
  {
   "cell_type": "code",
   "execution_count": 16,
   "id": "e4bafb61-c0b9-4554-af76-302b5f5dd0e5",
   "metadata": {
    "scrolled": true
   },
   "outputs": [
    {
     "data": {
      "text/plain": [
       "age          41\n",
       "sex           2\n",
       "cp            4\n",
       "trestbps     49\n",
       "chol        152\n",
       "fbs           2\n",
       "restecg       3\n",
       "thalach      91\n",
       "exang         2\n",
       "oldpeak      40\n",
       "slope         3\n",
       "ca            5\n",
       "thal          4\n",
       "target        2\n",
       "dtype: int64"
      ]
     },
     "execution_count": 16,
     "metadata": {},
     "output_type": "execute_result"
    }
   ],
   "source": [
    "df.nunique()"
   ]
  },
  {
   "cell_type": "code",
   "execution_count": 17,
   "id": "96e98543-01a7-4db7-b371-ae39a32ab48c",
   "metadata": {},
   "outputs": [
    {
     "name": "stdout",
     "output_type": "stream",
     "text": [
      "<class 'pandas.core.frame.DataFrame'>\n",
      "Index: 302 entries, 0 to 302\n",
      "Data columns (total 14 columns):\n",
      " #   Column    Non-Null Count  Dtype  \n",
      "---  ------    --------------  -----  \n",
      " 0   age       302 non-null    int64  \n",
      " 1   sex       302 non-null    int64  \n",
      " 2   cp        302 non-null    int64  \n",
      " 3   trestbps  302 non-null    int64  \n",
      " 4   chol      302 non-null    int64  \n",
      " 5   fbs       302 non-null    int64  \n",
      " 6   restecg   302 non-null    int64  \n",
      " 7   thalach   302 non-null    int64  \n",
      " 8   exang     302 non-null    int64  \n",
      " 9   oldpeak   302 non-null    float64\n",
      " 10  slope     302 non-null    int64  \n",
      " 11  ca        302 non-null    int64  \n",
      " 12  thal      302 non-null    int64  \n",
      " 13  target    302 non-null    int64  \n",
      "dtypes: float64(1), int64(13)\n",
      "memory usage: 35.4 KB\n"
     ]
    }
   ],
   "source": [
    "df.info()"
   ]
  },
  {
   "cell_type": "code",
   "execution_count": 37,
   "id": "f9f478ca-af14-4b94-a178-ca20c8773b32",
   "metadata": {},
   "outputs": [
    {
     "data": {
      "text/plain": [
       "target\n",
       "1    164\n",
       "0    138\n",
       "Name: count, dtype: int64"
      ]
     },
     "execution_count": 37,
     "metadata": {},
     "output_type": "execute_result"
    }
   ],
   "source": [
    "df['target'].value_counts()"
   ]
  },
  {
   "cell_type": "code",
   "execution_count": 22,
   "id": "58bc65d8-223c-4e8c-b26b-9c710b34d67b",
   "metadata": {},
   "outputs": [],
   "source": [
    "import numpy as np, time\n",
    "from sklearn.model_selection import train_test_split, cross_val_score, StratifiedKFold\n",
    "from sklearn.preprocessing import OneHotEncoder, StandardScaler\n",
    "from sklearn.compose import ColumnTransformer\n",
    "from sklearn.pipeline import Pipeline\n",
    "from sklearn.linear_model import LogisticRegression\n",
    "from sklearn.ensemble import RandomForestClassifier, GradientBoostingClassifier\n",
    "from sklearn.metrics import accuracy_score, precision_score, recall_score, f1_score, roc_auc_score, confusion_matrix, classification_report\n",
    "import matplotlib.pyplot as plt"
   ]
  },
  {
   "cell_type": "code",
   "execution_count": 23,
   "id": "63048a28-cb24-4246-8d24-a5df0fa5edb4",
   "metadata": {},
   "outputs": [],
   "source": [
    "x = df.drop(columns=['target'])\n",
    "y = df['target']"
   ]
  },
  {
   "cell_type": "code",
   "execution_count": 44,
   "id": "42578e96-f0b9-472d-83fa-c99fc30be854",
   "metadata": {},
   "outputs": [],
   "source": [
    "x['age_chol_ratio'] = x['age'] / x['chol']\n",
    "x['bp_times_age'] = x['trestbps'] * x['age']"
   ]
  },
  {
   "cell_type": "code",
   "execution_count": 45,
   "id": "0fc9992c-74ae-46ce-8a6c-2b41d70a6563",
   "metadata": {},
   "outputs": [
    {
     "name": "stdout",
     "output_type": "stream",
     "text": [
      " - sex: [0, 1] (n=2)\n",
      " - cp: [0, 1, 2, 3] (n=4)\n",
      " - fbs: [0, 1] (n=2)\n",
      " - restecg: [0, 1, 2] (n=3)\n",
      " - exang: [0, 1] (n=2)\n",
      " - slope: [0, 1, 2] (n=3)\n",
      " - ca: [0, 1, 2, 3, 4] (n=5)\n",
      " - thal: [0, 1, 2, 3] (n=4)\n",
      "Train size: 226 Test size: 76\n"
     ]
    }
   ],
   "source": [
    "candidate_cols = x.columns.tolist()\n",
    "cat_cols = [c for c in candidate_cols if x[c].nunique() <= 6]\n",
    "num_cols = [c for c in candidate_cols if c not in cat_cols]\n",
    "for c in cat_cols:\n",
    "    print(f\" - {c}: {sorted(x[c].unique())} (n={x[c].nunique()})\")\n",
    "preprocessor = ColumnTransformer(transformers=[\n",
    "    ('num', StandardScaler(), num_cols),\n",
    "    ('cat', OneHotEncoder(handle_unknown='ignore', sparse_output=False), cat_cols)\n",
    "])\n",
    "x_train, x_test, y_train, y_test = train_test_split(x, y, test_size=0.25, stratify=y, random_state=42)\n",
    "print(\"Train size:\", x_train.shape[0], \"Test size:\", x_test.shape[0])"
   ]
  },
  {
   "cell_type": "code",
   "execution_count": 46,
   "id": "2296160c-442c-4e6a-9724-2330a69a64a3",
   "metadata": {},
   "outputs": [
    {
     "name": "stdout",
     "output_type": "stream",
     "text": [
      "\n",
      "# STEP 6 - Define models and run them one-by-one\n"
     ]
    }
   ],
   "source": [
    "def evaluate_pipeline(name, pipe, x_train, x_test, y_train, y_test,x, y, cv):\n",
    "    t0 = time.time()\n",
    "    pipe.fit(x_train, y_train)\n",
    "    fit_time = time.time() - t0\n",
    "    y_pred = pipe.predict(x_test)\n",
    "    # probability / score for ROC AUC\n",
    "    y_score = None\n",
    "    if hasattr(pipe.named_steps['clf'], \"predict_proba\"):\n",
    "        try:\n",
    "            y_score = pipe.predict_proba(x_test)[:, 1]\n",
    "        except Exception:\n",
    "            y_score = None\n",
    "    if y_score is None and hasattr(pipe.named_steps['clf'], \"decision_function\"):\n",
    "        try:\n",
    "            y_score = pipe.decision_function(x_test)\n",
    "        except Exception:\n",
    "            y_score = None\n",
    "    acc = accuracy_score(y_test, y_pred)\n",
    "    prec = precision_score(y_test, y_pred, zero_division=0)\n",
    "    rec = recall_score(y_test, y_pred, zero_division=0)\n",
    "    f1 = f1_score(y_test, y_pred, zero_division=0)\n",
    "    rocauc = roc_auc_score(y_test, y_score) if y_score is not None else np.nan\n",
    "    \n",
    "    # 5-fold CV ROC-AUC with StratifiedKFold passed in\n",
    "    try:\n",
    "        cv_scores = cross_val_score(pipe, X, y, cv=cv, scoring='roc_auc')\n",
    "        cv_mean = float(np.mean(cv_scores))\n",
    "    except Exception as e:\n",
    "        cv_mean = np.nan\n",
    "        cv_scores = None\n",
    "\n",
    "    print(f\"\\n--- {name} evaluation ---\")\n",
    "    print(f\"Fit time: {fit_time:.2f}s\")\n",
    "    print(\"Test accuracy: \", round(acc,4))\n",
    "    print(\"Test precision:\", round(prec,4))\n",
    "    print(\"Test recall:   \", round(rec,4))\n",
    "    print(\"Test F1:       \", round(f1,4))\n",
    "    print(\"Test ROC-AUC:  \", round(rocauc,4) if not np.isnan(rocauc) else \"N/A\")\n",
    "    print(\"\\nClassification report:\\n\", classification_report(y_test, y_pred, zero_division=0))\n",
    "    print(\"Confusion matrix:\\n\", confusion_matrix(y_test, y_pred))\n",
    "    if cv_scores is not None:\n",
    "        print(\"5-fold CV ROC-AUC scores:\", [round(s,4) for s in cv_scores])\n",
    "        print(\"5-fold CV ROC-AUC mean: \", round(cv_mean,4))\n",
    "    return pipe, {'accuracy':acc, 'precision':prec, 'recall':rec, 'f1':f1, 'roc_auc':rocauc, 'cv5_mean':cv_mean}\n",
    "\n",
    "print(\"\\n# STEP 6 - Define models and run them one-by-one\")\n",
    "models_info = {}"
   ]
  },
  {
   "cell_type": "code",
   "execution_count": 32,
   "id": "41753a22-48da-4fb7-9cb0-01609964b1bb",
   "metadata": {},
   "outputs": [
    {
     "name": "stdout",
     "output_type": "stream",
     "text": [
      "\n",
      "--- Logistic Regression evaluation ---\n",
      "Fit time: 0.02s\n",
      "Test accuracy:  0.8026\n",
      "Test precision: 0.7826\n",
      "Test recall:    0.878\n",
      "Test F1:        0.8276\n",
      "Test ROC-AUC:   0.8948\n",
      "\n",
      "Classification report:\n",
      "               precision    recall  f1-score   support\n",
      "\n",
      "           0       0.83      0.71      0.77        35\n",
      "           1       0.78      0.88      0.83        41\n",
      "\n",
      "    accuracy                           0.80        76\n",
      "   macro avg       0.81      0.80      0.80        76\n",
      "weighted avg       0.81      0.80      0.80        76\n",
      "\n",
      "Confusion matrix:\n",
      " [[25 10]\n",
      " [ 5 36]]\n",
      "\n",
      "--- Random Forest evaluation ---\n",
      "Fit time: 0.43s\n",
      "Test accuracy:  0.7368\n",
      "Test precision: 0.7234\n",
      "Test recall:    0.8293\n",
      "Test F1:        0.7727\n",
      "Test ROC-AUC:   0.8693\n",
      "\n",
      "Classification report:\n",
      "               precision    recall  f1-score   support\n",
      "\n",
      "           0       0.76      0.63      0.69        35\n",
      "           1       0.72      0.83      0.77        41\n",
      "\n",
      "    accuracy                           0.74        76\n",
      "   macro avg       0.74      0.73      0.73        76\n",
      "weighted avg       0.74      0.74      0.73        76\n",
      "\n",
      "Confusion matrix:\n",
      " [[22 13]\n",
      " [ 7 34]]\n",
      "\n",
      "--- Gradient Boosting (sklearn) evaluation ---\n",
      "Fit time: 0.09s\n",
      "Test accuracy:  0.7763\n",
      "Test precision: 0.7727\n",
      "Test recall:    0.8293\n",
      "Test F1:        0.8\n",
      "Test ROC-AUC:   0.8495\n",
      "\n",
      "Classification report:\n",
      "               precision    recall  f1-score   support\n",
      "\n",
      "           0       0.78      0.71      0.75        35\n",
      "           1       0.77      0.83      0.80        41\n",
      "\n",
      "    accuracy                           0.78        76\n",
      "   macro avg       0.78      0.77      0.77        76\n",
      "weighted avg       0.78      0.78      0.78        76\n",
      "\n",
      "Confusion matrix:\n",
      " [[25 10]\n",
      " [ 7 34]]\n",
      "\n",
      "# STEP 7 - Feature importances / coefficients\n",
      "\n",
      "Model: LogisticRegression\n",
      "Number of features after preprocessing: 30\n",
      "\n",
      "Top features by absolute coefficient value:\n",
      " cp_0     -1.215879\n",
      "ca_0      1.011439\n",
      "thal_2    0.874571\n",
      "thal_3   -0.826761\n",
      "cp_3      0.810400\n",
      "ca_2     -0.731415\n",
      "sex_0     0.587024\n",
      "sex_1    -0.553289\n",
      "cp_2      0.539133\n",
      "chol     -0.495006\n",
      "\n",
      "Top positive coefficients:\n",
      " ca_0      1.011439\n",
      "thal_2    0.874571\n",
      "cp_3      0.810400\n",
      "sex_0     0.587024\n",
      "cp_2      0.539133\n",
      "\n",
      "Top negative coefficients:\n",
      " cp_0     -1.215879\n",
      "thal_3   -0.826761\n",
      "ca_2     -0.731415\n",
      "sex_1    -0.553289\n",
      "chol     -0.495006\n",
      "\n",
      "Model: RandomForest\n",
      "Number of features after preprocessing: 30\n",
      "\n",
      "Top features by importance:\n",
      " thal_2      0.107270\n",
      "oldpeak     0.098085\n",
      "cp_0        0.097968\n",
      "thalach     0.090502\n",
      "thal_3      0.077891\n",
      "chol        0.065424\n",
      "age         0.064239\n",
      "trestbps    0.057788\n",
      "ca_0        0.048865\n",
      "exang_1     0.040540\n"
     ]
    },
    {
     "data": {
      "image/png": "[encoded data removed]",
      "text/plain": [
       "<Figure size 800x400 with 1 Axes>"
      ]
     },
     "metadata": {},
     "output_type": "display_data"
    },
    {
     "name": "stdout",
     "output_type": "stream",
     "text": [
      "\n",
      "Model: GradientBoosting\n",
      "Number of features after preprocessing: 30\n",
      "\n",
      "Top features by importance:\n",
      " thal_2      0.311637\n",
      "cp_0        0.163604\n",
      "oldpeak     0.106772\n",
      "chol        0.084459\n",
      "ca_0        0.061996\n",
      "thalach     0.044397\n",
      "age         0.041037\n",
      "trestbps    0.031953\n",
      "exang_0     0.021731\n",
      "slope_1     0.019700\n"
     ]
    },
    {
     "data": {
      "image/png": "[encoded data removed]",
      "text/plain": [
       "<Figure size 800x400 with 1 Axes>"
      ]
     },
     "metadata": {},
     "output_type": "display_data"
    },
    {
     "name": "stdout",
     "output_type": "stream",
     "text": [
      "\n",
      "# STEP 8 - Save results summary to CSV\n",
      "Saved summary to: model_results_summary_step_by_step.csv\n",
      "\n",
      "Results summary:\n",
      "                     accuracy  precision  recall      f1  roc_auc  cv5_mean\n",
      "model                                                                     \n",
      "LogisticRegression    0.8026     0.7826  0.8780  0.8276   0.8948       NaN\n",
      "RandomForest          0.7368     0.7234  0.8293  0.7727   0.8693       NaN\n",
      "GradientBoosting      0.7763     0.7727  0.8293  0.8000   0.8495       NaN\n",
      "\n",
      "Finished step-by-step run. If you want explanations for any step or want me to tune a model next, tell me which model to tune.\n"
     ]
    }
   ],
   "source": [
    "# Logistic Regression pipeline\n",
    "lr_pipe = Pipeline([('pre', preprocessor), ('clf', LogisticRegression(max_iter=1000, solver='liblinear'))])\n",
    "cv = StratifiedKFold(n_splits=5, shuffle=True, random_state=42)\n",
    "lr_pipe, lr_stats = evaluate_pipeline(\"Logistic Regression\", lr_pipe, x_train, x_test, y_train, y_test, x, y, cv)\n",
    "models_info['LogisticRegression'] = (lr_pipe, lr_stats)\n",
    "\n",
    "# Random Forest pipeline\n",
    "rf_pipe = Pipeline([('pre', preprocessor), ('clf', RandomForestClassifier(n_estimators=200, random_state=42))])\n",
    "rf_pipe, rf_stats = evaluate_pipeline(\"Random Forest\", rf_pipe, x_train, x_test, y_train, y_test, x, y, cv)\n",
    "models_info['RandomForest'] = (rf_pipe, rf_stats)\n",
    "\n",
    "# Try XGBoost, else use sklearn's GradientBoosting\n",
    "try:\n",
    "    from xgboost import XGBClassifier\n",
    "    xgb_pipe = Pipeline([('pre', preprocessor), ('clf', XGBClassifier(use_label_encoder=False, eval_metric='logloss', random_state=42))])\n",
    "    xgb_pipe, xgb_stats = evaluate_pipeline(\"XGBoost\", xgb_pipe, x_train, x_test, y_train, y_test, x, y, cv)\n",
    "    models_info['XGBoost'] = (xgb_pipe, xgb_stats)\n",
    "    xgb_available = True\n",
    "except Exception as e:\n",
    "    gb_pipe = Pipeline([('pre', preprocessor), ('clf', GradientBoostingClassifier(random_state=42))])\n",
    "    gb_pipe, gb_stats = evaluate_pipeline(\"Gradient Boosting (sklearn)\", gb_pipe, x_train, x_test, y_train, y_test, x, y, cv)\n",
    "    models_info['GradientBoosting'] = (gb_pipe, gb_stats)\n",
    "    xgb_available = False\n",
    "\n",
    "print(\"\\n# STEP 7 - Feature importances / coefficients\")\n",
    "def get_feature_names_after_preprocessing(fitted_preprocessor):\n",
    "    # numeric names are num_cols, categorical names come from OneHotEncoder\n",
    "    num_names = num_cols\n",
    "    try:\n",
    "        cat_transformer = fitted_preprocessor.named_transformers_['cat']\n",
    "        cat_names = list(cat_transformer.get_feature_names_out(cat_cols))\n",
    "    except Exception:\n",
    "        # fallback: generate simple names\n",
    "        cat_names = []\n",
    "    return num_names + cat_names\n",
    "\n",
    "# For each model, print top features\n",
    "for name, (pipe, stats) in models_info.items():\n",
    "    print(f\"\\nModel: {name}\")\n",
    "    clf = pipe.named_steps['clf']\n",
    "    pre = pipe.named_steps['pre']\n",
    "    try:\n",
    "        feature_names = get_feature_names_after_preprocessing(pre)\n",
    "    except Exception:\n",
    "        feature_names = None\n",
    "    if feature_names is not None:\n",
    "        print(\"Number of features after preprocessing:\", len(feature_names))\n",
    "    else:\n",
    "        print(\"Could not extract feature names\")\n",
    "\n",
    "    if hasattr(clf, \"feature_importances_\"):\n",
    "        importances = clf.feature_importances_\n",
    "        fi = pd.Series(importances, index=feature_names).sort_values(ascending=False)\n",
    "        print(\"\\nTop features by importance:\\n\", fi.head(10).to_string())\n",
    "        # plot top 10\n",
    "        plt.figure(figsize=(8,4))\n",
    "        fi.head(10).plot(kind='bar')\n",
    "        plt.title(f\"Top 10 feature importances — {name}\")\n",
    "        plt.tight_layout()\n",
    "        plt.show()\n",
    "    elif hasattr(clf, \"coef_\"):\n",
    "        coefs = clf.coef_[0]\n",
    "        coef_df = pd.Series(coefs, index=feature_names).sort_values(key=abs, ascending=False)\n",
    "        print(\"\\nTop features by absolute coefficient value:\\n\", coef_df.head(10).to_string())\n",
    "        print(\"\\nTop positive coefficients:\\n\", coef_df[coef_df>0].head(5).to_string())\n",
    "        print(\"\\nTop negative coefficients:\\n\", coef_df[coef_df<0].head(5).to_string())\n",
    "\n",
    "print(\"\\n# STEP 8 - Save results summary to CSV\")\n",
    "results_summary = []\n",
    "for name, (pipe, stats) in models_info.items():\n",
    "    d = {'model': name}\n",
    "    d.update(stats)\n",
    "    results_summary.append(d)\n",
    "results_df = pd.DataFrame(results_summary).set_index('model').round(4)\n",
    "csv_path = 'model_results_summary_step_by_step.csv'\n",
    "\n",
    "\n",
    "results_df.to_csv(csv_path)\n",
    "print(\"Saved summary to:\", csv_path)\n",
    "print(\"\\nResults summary:\\n\", results_df.to_string())\n",
    "\n",
    "# If caas_jupyter_tools is available, show interactive table (optional)\n",
    "try:\n",
    "    import caas_jupyter_tools as cjt\n",
    "    cjt.display_dataframe_to_user(\"Model evaluation summary (step-by-step)\", results_df)\n",
    "except Exception:\n",
    "    pass\n",
    "\n",
    "print(\"\\nFinished step-by-step run. If you want explanations for any step or want me to tune a model next, tell me which model to tune.\")\n"
   ]
  },
  {
   "cell_type": "code",
   "execution_count": 47,
   "id": "5dbc7bd6-2978-42f8-a568-68cab5841181",
   "metadata": {},
   "outputs": [
    {
     "name": "stdout",
     "output_type": "stream",
     "text": [
      "\n",
      "--- Logistic Regression evaluation ---\n",
      "Fit time: 0.01s\n",
      "Test accuracy:  0.8158\n",
      "Test precision: 0.814\n",
      "Test recall:    0.8537\n",
      "Test F1:        0.8333\n",
      "Test ROC-AUC:   0.8969\n",
      "\n",
      "Classification report:\n",
      "               precision    recall  f1-score   support\n",
      "\n",
      "           0       0.82      0.77      0.79        35\n",
      "           1       0.81      0.85      0.83        41\n",
      "\n",
      "    accuracy                           0.82        76\n",
      "   macro avg       0.82      0.81      0.81        76\n",
      "weighted avg       0.82      0.82      0.82        76\n",
      "\n",
      "Confusion matrix:\n",
      " [[27  8]\n",
      " [ 6 35]]\n"
     ]
    }
   ],
   "source": [
    "# Logistic Regression pipeline\n",
    "lr_pipe = Pipeline([('pre', preprocessor), ('clf', LogisticRegression(max_iter=1000, solver='liblinear',class_weight='balanced'))])\n",
    "cv = StratifiedKFold(n_splits=5, shuffle=True, random_state=42)\n",
    "lr_pipe, lr_stats = evaluate_pipeline(\"Logistic Regression\", lr_pipe, x_train, x_test, y_train, y_test, x, y, cv)\n",
    "models_info['LogisticRegression'] = (lr_pipe, lr_stats)\n"
   ]
  },
  {
   "cell_type": "code",
   "execution_count": null,
   "id": "8e4a43a9-a72e-4e74-a220-6f173fc6a51a",
   "metadata": {},
   "outputs": [],
   "source": []
  }
 ],
 "metadata": {
  "kernelspec": {
   "display_name": "Python 3 (ipykernel)",
   "language": "python",
   "name": "python3"
  },
  "language_info": {
   "codemirror_mode": {
    "name": "ipython",
    "version": 3
   },
   "file_extension": ".py",
   "mimetype": "text/x-python",
   "name": "python",
   "nbconvert_exporter": "python",
   "pygments_lexer": "ipython3",
   "version": "3.12.4"
  }
 },
 "nbformat": 4,
 "nbformat_minor": 5
}
